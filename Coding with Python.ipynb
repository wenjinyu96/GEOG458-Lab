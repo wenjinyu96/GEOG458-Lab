{
 "cells": [
  {
   "cell_type": "markdown",
   "metadata": {},
   "source": [
    "#### Part 1\n",
    "\n",
    "I think it is very intersting to see Jupyter has a section called Linguistics and Text Mining.  The use of data mining language has extended to not only STEM fields, but also social media platform content. Here is the [Twitter Example](https://nbviewer.jupyter.org/github/nealcaren/workshop_2014/blob/master/notebooks/2_Twitter.ipynb).\n",
    "\n",
    "#### Part 2\n",
    "1a)Some of the very popular python packages includes, Pandas, PySpark and SciPy.\n",
    "\n",
    "Pandas DataFrames are widely used in-memory representation of complex data collections within Python in fields like finance, natural science, or data science.\n",
    "\n",
    "PySpark is the Python API for Spark.\n",
    "\n",
    "SciPy is a package that contains modules for optimization, linear algebra, integration, interpolation, special functions, FFT, signal and image processing, ODE solvers and other tasks common in science and engineering.\n",
    "\n",
    "Source:[DataCamp](https://www.datacamp.com/courses/tech:python)\n",
    "\n",
    "1b) Python normally use [Bokeh](https://github.com/bokeh/bokeh),[seaborn](https://github.com/mwaskom/seaborn),[ggplot](https://github.com/yhat/ggpy).\n",
    "\n",
    "1c) [Pandas](https://github.com/pandas-dev/pandas) is a python library for data analysis that uses dataframes.\n",
    "\n",
    "##### Task3\n",
    "1)python uses '=', R uses '<-'\n",
    "2)Indexing is different.  In python, index starts at 0.\n",
    "3)Python is a general purpose programmer friendly language, R is designed for scientist."
   ]
  },
  {
   "cell_type": "code",
   "execution_count": 116,
   "metadata": {},
   "outputs": [
    {
     "name": "stdout",
     "output_type": "stream",
     "text": [
      "JohnDoewantstoeat.\n",
      "10JohnDoewantstoeat.\n",
      "10JOHNDOEWANTSTOEAT.\n",
      "10 John Doe wants to eat.\n",
      "Count of char 'o':  3\n",
      "Found 'to' at index 18\n",
      "1st half of str:  10 John Doe \n",
      " John Doe wants to eat.\n",
      "['10', 'John', 'Doe', 'wants', 'to', 'eat.']\n",
      "None\n"
     ]
    }
   ],
   "source": [
    "#Part2\n",
    "x = \"John\" \n",
    "y = \"Doe\"\n",
    "z = \"wants\"\n",
    "a = \"to\"\n",
    "b = \"eat.\"\n",
    "sum = x+y+z+a+b\n",
    "print sum #task4\n",
    "c = \"10\"\n",
    "sum = c + sum\n",
    "print sum\n",
    "print sum.upper() #task5\n",
    "llist_1 = [c,x,y,z,a,b]\n",
    "new_l = ' '.join(llist_1) #join list into str w/ spc b/w\n",
    "print new_l\n",
    "print \"Count of char 'o': \",new_l.count(\"o\") \n",
    "print \"Found 'to' at index\",new_l.find(\"to\") #task6\n",
    "print \"1st half of str: \",new_l[:len(new_l)/2] #task7\n",
    "print new_l.strip(\"10\") #Task8\n",
    "n2_l = new_l.split(' ')\n",
    "print n2_l\n",
    "n2_2 = n2_l.insert(4,'Jane')\n",
    "print n2_2 #Task9"
   ]
  },
  {
   "cell_type": "markdown",
   "metadata": {},
   "source": [
    "#### Part 3"
   ]
  },
  {
   "cell_type": "code",
   "execution_count": 68,
   "metadata": {},
   "outputs": [
    {
     "name": "stdout",
     "output_type": "stream",
     "text": [
      "2nd Quartile\n"
     ]
    }
   ],
   "source": [
    "#Part 3 Task10\n",
    "from random import randint\n",
    "rInt = randint(1, 100)\n",
    "if rInt < 25:\n",
    "    print \"1st Quartile\"\n",
    "elif rInt > 25 & rInt <= 50: \n",
    "    print \"2nd Quartile\"\n",
    "elif rInt > 75:\n",
    "    print \"4th Quartile\"\n",
    "else:\n",
    "    print \"3rd Quartile\""
   ]
  },
  {
   "cell_type": "markdown",
   "metadata": {},
   "source": [
    "#### Part 4"
   ]
  },
  {
   "cell_type": "code",
   "execution_count": 92,
   "metadata": {},
   "outputs": [
    {
     "name": "stdout",
     "output_type": "stream",
     "text": [
      "Warning, residents of  New York , temperatures will reach sub-zero temperatures today, please stay indoors if possible.\n",
      "Warning, residents of  Chicago , temperatures will reach sub-zero temperatures today, please stay indoors if possible.\n",
      "Warning, residents of  Boston , temperatures will reach sub-zero temperatures today, please stay indoors if possible.\n",
      "Warning, residents of  Los Angeles , temperatures will reach sub-zero temperatures today, please stay indoors if possible.\n",
      "Warning, residents of  Portland , temperatures will reach sub-zero temperatures today, please stay indoors if possible.\n",
      "Warning, residents of  Seattle , temperatures will reach sub-zero temperatures today, please stay indoors if possible.\n",
      "U://Users/Zhang/Geog_458/Washington.shp\n",
      "U://Users/Zhang/Geog_458/California.shp\n",
      "U://Users/Zhang/Geog_458/Nevada.shp\n",
      "U://Users/Zhang/Geog_458/Idaho.shp\n",
      "U://Users/Zhang/Geog_458/Montana.shp\n",
      "U://Users/Zhang/Geog_458/Utah.shp\n",
      "U://Users/Zhang/Geog_458/Colorado.shp\n",
      "U://Users/Zhang/Geog_458/New Mexico.shp\n",
      "T-minus 10\n",
      "T-minus 9\n",
      "T-minus 8\n",
      "T-minus 7\n",
      "T-minus 6\n",
      "T-minus 5\n",
      "T-minus 4\n",
      "T-minus 3\n",
      "T-minus 2\n",
      "T-minus 1\n",
      "T-minus 0\n"
     ]
    }
   ],
   "source": [
    "#Part 4\n",
    "cities = ['New York','Chicago','Boston','Los Angeles','Portland','Seattle']\n",
    "for i in range(len(cities)):\n",
    " print \"Warning, residents of \", cities[i],\", temperatures will reach sub-zero temperatures today, please stay indoors if possible.\"\n",
    "#task 11\n",
    "statelist = [\"Washington\", \"California\", \"Nevada\", \"Idaho\", \"Montana\", \"Utah\", \"Colorado\", \"New Mexico\"]\n",
    "for i in range(len(statelist)):\n",
    "    print(\"U://Users/Zhang/Geog_458/{state}.shp\".format(state = statelist[i])) #task12\n",
    "    \n",
    "j = 10\n",
    "while j > -1:\n",
    "    print(\"T-minus {Count}\".format(Count = j))\n",
    "    j -= 1\n",
    "#task13\n"
   ]
  },
  {
   "cell_type": "markdown",
   "metadata": {},
   "source": [
    "#### Part 5"
   ]
  },
  {
   "cell_type": "code",
   "execution_count": 114,
   "metadata": {},
   "outputs": [],
   "source": [
    "#Part 5\n",
    "def countdown(k):\n",
    "    j = k\n",
    "    while j > -1:\n",
    "        print(\"T-minus {Count}\".format(Count = j))\n",
    "        j -= 1\n",
    "\n",
    "#countdown(12)\n",
    "#task13\n",
    "\n",
    "from random import randint\n",
    "\n",
    "def quartile_calc(num):\n",
    "    rInt = randint(0, num)\n",
    "    if -1 < rInt < 101:\n",
    "        if rInt <= 25:\n",
    "            print \"1st Quartile\"\n",
    "        elif rInt < 51 & rInt > 25: \n",
    "            print \"2nd Quartile\"\n",
    "        elif rInt > 75:\n",
    "            print \"4th Quartile\"\n",
    "        else:\n",
    "            print \"3rd Quartile\"\n",
    "    else:\n",
    "        print \"Error\"\n",
    "\n",
    "#quartile_calc(80)"
   ]
  }
 ],
 "metadata": {
  "kernelspec": {
   "display_name": "Python 2",
   "language": "python",
   "name": "python2"
  },
  "language_info": {
   "codemirror_mode": {
    "name": "ipython",
    "version": 2
   },
   "file_extension": ".py",
   "mimetype": "text/x-python",
   "name": "python",
   "nbconvert_exporter": "python",
   "pygments_lexer": "ipython2",
   "version": "2.7.15"
  }
 },
 "nbformat": 4,
 "nbformat_minor": 2
}
